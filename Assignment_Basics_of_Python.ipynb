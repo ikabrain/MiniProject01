{
  "nbformat": 4,
  "nbformat_minor": 0,
  "metadata": {
    "colab": {
      "provenance": [],
      "collapsed_sections": [
        "4FTzpt79LDFz",
        "BLMGRCrrP8Ak",
        "7el2yWWQSVCe",
        "C15z1p-mUcmT",
        "yZKHB0mUZYOK",
        "oFjuW6Njb4M-",
        "vEYZuip-eYcK",
        "XknkykrbfERF",
        "1cqXxZKpfukX",
        "HE1YuMmBgZ0n"
      ],
      "authorship_tag": "ABX9TyPd0OhtQQtKZSLoL5I3gwDb",
      "include_colab_link": true
    },
    "kernelspec": {
      "name": "python3",
      "display_name": "Python 3"
    },
    "language_info": {
      "name": "python"
    }
  },
  "cells": [
    {
      "cell_type": "markdown",
      "metadata": {
        "id": "view-in-github",
        "colab_type": "text"
      },
      "source": [
        "<a href=\"https://colab.research.google.com/github/ikabrain/MiniProject01/blob/main/Assignment_Basics_of_Python.ipynb\" target=\"_parent\"><img src=\"https://colab.research.google.com/assets/colab-badge.svg\" alt=\"Open In Colab\"/></a>"
      ]
    },
    {
      "cell_type": "markdown",
      "source": [
        "---\n",
        "# Python Assignment"
      ],
      "metadata": {
        "id": "8JMNXFLWJ8pk"
      }
    },
    {
      "cell_type": "markdown",
      "source": [
        "---\n",
        "#### Q1. L is a list defined as L= [11, 12, 13, 14]."
      ],
      "metadata": {
        "id": "4FTzpt79LDFz"
      }
    },
    {
      "cell_type": "code",
      "source": [
        "L = [11, 12, 13, 14]\n",
        "print(L)"
      ],
      "metadata": {
        "colab": {
          "base_uri": "https://localhost:8080/"
        },
        "id": "1owZfrBiLGHj",
        "outputId": "7c8b2f74-4831-42a1-d13b-d40bf23b62e9"
      },
      "execution_count": 2,
      "outputs": [
        {
          "output_type": "execute_result",
          "data": {
            "text/plain": [
              "[11, 12, 13, 14]"
            ]
          },
          "metadata": {},
          "execution_count": 2
        }
      ]
    },
    {
      "cell_type": "markdown",
      "source": [
        "##### (i) WAP to add 50 and 60 to L."
      ],
      "metadata": {
        "id": "o_KCqCZNLMqL"
      }
    },
    {
      "cell_type": "code",
      "source": [
        "L = [11, 12, 13, 14]\n",
        "L.append(50)\n",
        "L.append(60)\n",
        "print(L)"
      ],
      "metadata": {
        "colab": {
          "base_uri": "https://localhost:8080/"
        },
        "id": "hU6947TqLSBY",
        "outputId": "782f628b-570d-4795-e0c1-6c784434f3ba"
      },
      "execution_count": 3,
      "outputs": [
        {
          "output_type": "stream",
          "name": "stdout",
          "text": [
            "[11, 12, 13, 14, 50, 60]\n"
          ]
        }
      ]
    },
    {
      "cell_type": "markdown",
      "source": [
        "##### (ii) WAP to remove 11 and 13 from L"
      ],
      "metadata": {
        "id": "Td2zcsMkLbxy"
      }
    },
    {
      "cell_type": "code",
      "source": [
        "L = [11, 12, 13, 14]\n",
        "L.remove(11)\n",
        "L.remove(13)\n",
        "print(L)"
      ],
      "metadata": {
        "colab": {
          "base_uri": "https://localhost:8080/"
        },
        "id": "4zWlU48-Likj",
        "outputId": "352e132d-e85c-46bb-9d4a-0ffd7c51583c"
      },
      "execution_count": 4,
      "outputs": [
        {
          "output_type": "stream",
          "name": "stdout",
          "text": [
            "[12, 14, 50, 60]\n"
          ]
        }
      ]
    },
    {
      "cell_type": "markdown",
      "source": [
        "##### (iii) WAP to sort L in ascending order."
      ],
      "metadata": {
        "id": "BBkW7w1VMJ_C"
      }
    },
    {
      "cell_type": "code",
      "source": [
        "L = [11, 12, 13, 14]\n",
        "L.sort()\n",
        "print(L)"
      ],
      "metadata": {
        "colab": {
          "base_uri": "https://localhost:8080/"
        },
        "id": "DGvEtVMMMOz0",
        "outputId": "89680203-c481-4786-d64b-18ee5906712b"
      },
      "execution_count": 5,
      "outputs": [
        {
          "output_type": "stream",
          "name": "stdout",
          "text": [
            "[12, 14, 50, 60]\n"
          ]
        }
      ]
    },
    {
      "cell_type": "markdown",
      "source": [
        "##### (iv) WAP to sort L in descending order."
      ],
      "metadata": {
        "id": "pXbA0RspMT6n"
      }
    },
    {
      "cell_type": "code",
      "source": [
        "L = [11, 12, 13, 14]\n",
        "L.sort(reverse=True)\n",
        "print(L)"
      ],
      "metadata": {
        "colab": {
          "base_uri": "https://localhost:8080/"
        },
        "id": "c2ZcY789Mots",
        "outputId": "6afbe19d-31ce-4435-b1fb-d0fa0409efaa"
      },
      "execution_count": 6,
      "outputs": [
        {
          "output_type": "stream",
          "name": "stdout",
          "text": [
            "[60, 50, 14, 12]\n"
          ]
        }
      ]
    },
    {
      "cell_type": "markdown",
      "source": [
        "##### (v) WAP to search for 13 in L."
      ],
      "metadata": {
        "id": "lCTLuNztMrs9"
      }
    },
    {
      "cell_type": "code",
      "source": [
        "L = [11, 12, 13, 14]\n",
        "try:\n",
        "    ind = L.index(13)\n",
        "    print(\"13 is at index\", ind, \"in list L.\")\n",
        "except ValueError:\n",
        "    print(\"13 is not in list L now.\")"
      ],
      "metadata": {
        "colab": {
          "base_uri": "https://localhost:8080/"
        },
        "id": "S7SgoH_UM0OQ",
        "outputId": "a0e4e130-ac50-4824-c407-a6f9de7160ea"
      },
      "execution_count": 12,
      "outputs": [
        {
          "output_type": "stream",
          "name": "stdout",
          "text": [
            "13 is at index 2 in list L.\n"
          ]
        }
      ]
    },
    {
      "cell_type": "markdown",
      "source": [
        "##### (vi) WAP to count the number of elements present in L."
      ],
      "metadata": {
        "id": "WeyjkTMnNYxe"
      }
    },
    {
      "cell_type": "code",
      "source": [
        "L = [11, 12, 13, 14]\n",
        "c = len(L)\n",
        "print(\"No. of elements in L =\", c)"
      ],
      "metadata": {
        "colab": {
          "base_uri": "https://localhost:8080/"
        },
        "id": "aHle8lsnNmF_",
        "outputId": "f0289d04-f68a-4653-82da-4af8e7743618"
      },
      "execution_count": 11,
      "outputs": [
        {
          "output_type": "stream",
          "name": "stdout",
          "text": [
            "No. of elements in L = 4\n"
          ]
        }
      ]
    },
    {
      "cell_type": "markdown",
      "source": [
        "##### (vii) WAP to sum all the elements in L."
      ],
      "metadata": {
        "id": "Hgt4TXJUNr0w"
      }
    },
    {
      "cell_type": "code",
      "source": [
        "L = [11, 12, 13, 14]\n",
        "s = sum(L)\n",
        "print(\"Sum of all elements of L is\", s)"
      ],
      "metadata": {
        "colab": {
          "base_uri": "https://localhost:8080/"
        },
        "id": "s23nUAp1Nx85",
        "outputId": "14cff4c6-24f1-4b9e-9c4a-cd38605b37b6"
      },
      "execution_count": 13,
      "outputs": [
        {
          "output_type": "stream",
          "name": "stdout",
          "text": [
            "Sum of all elements of L is 50\n"
          ]
        }
      ]
    },
    {
      "cell_type": "markdown",
      "source": [
        "##### (viii) WAP to sum all ODD numbers in L."
      ],
      "metadata": {
        "id": "VP-HCvXmOCfe"
      }
    },
    {
      "cell_type": "code",
      "source": [
        "L = [11, 12, 13, 14]\n",
        "odd_sum = sum([x for x in L if x%2 != 0])\n",
        "print(\"Sum of all odd numbers in L is\", odd_sum)"
      ],
      "metadata": {
        "colab": {
          "base_uri": "https://localhost:8080/"
        },
        "id": "ihulqAACOG6Y",
        "outputId": "06e4ba3d-22d1-49d6-aff2-cea980b4f530"
      },
      "execution_count": 14,
      "outputs": [
        {
          "output_type": "stream",
          "name": "stdout",
          "text": [
            "Sum of all odd numbers in L is 24\n"
          ]
        }
      ]
    },
    {
      "cell_type": "markdown",
      "source": [
        "##### (ix) WAP to sum all EVEN numbers in L."
      ],
      "metadata": {
        "id": "VXZyuDZqObwz"
      }
    },
    {
      "cell_type": "code",
      "source": [
        "L = [11, 12, 13, 14]\n",
        "even_sum = sum([x for x in L if x%2 == 0])\n",
        "print(\"Sum of all even numbers in L is\", even_sum)"
      ],
      "metadata": {
        "colab": {
          "base_uri": "https://localhost:8080/"
        },
        "outputId": "846b7ad4-bcfc-4afd-b9bc-c753531ee43c",
        "id": "It9OimNGObwz"
      },
      "execution_count": 16,
      "outputs": [
        {
          "output_type": "stream",
          "name": "stdout",
          "text": [
            "Sum of all even numbers in L is 26\n"
          ]
        }
      ]
    },
    {
      "cell_type": "markdown",
      "source": [
        "##### (x) WAP to sum all PRIME numbers in L."
      ],
      "metadata": {
        "id": "ojSytMEbOiPF"
      }
    },
    {
      "cell_type": "code",
      "source": [
        "from math import sqrt\n",
        "\n",
        "L = [11, 12, 13, 14]\n",
        "\n",
        "prime_sum = 0\n",
        "for x in L:\n",
        "    for i in range(2, int(sqrt(x))+1):\n",
        "        if x % i == 0:\n",
        "            break\n",
        "    else:\n",
        "        prime_sum += x\n",
        "\n",
        "print(\"Sum of all prime numbers in L is\", prime_sum)"
      ],
      "metadata": {
        "colab": {
          "base_uri": "https://localhost:8080/"
        },
        "outputId": "2878dfac-8307-47b2-b222-0e612a6ed26b",
        "id": "nQzKzvIBOiPG"
      },
      "execution_count": 17,
      "outputs": [
        {
          "output_type": "stream",
          "name": "stdout",
          "text": [
            "Sum of all prime numbers in L is 24\n"
          ]
        }
      ]
    },
    {
      "cell_type": "markdown",
      "source": [
        "##### (xi) WAP to clear all the elements in L."
      ],
      "metadata": {
        "id": "tzBOPF1uPVxf"
      }
    },
    {
      "cell_type": "code",
      "source": [
        "L.clear()\n",
        "print(L)"
      ],
      "metadata": {
        "colab": {
          "base_uri": "https://localhost:8080/"
        },
        "id": "okVLQbjrPr5W",
        "outputId": "56810d14-0b61-4ddb-d1ea-3f7b5f698b9b"
      },
      "execution_count": 18,
      "outputs": [
        {
          "output_type": "stream",
          "name": "stdout",
          "text": [
            "[]\n"
          ]
        }
      ]
    },
    {
      "cell_type": "markdown",
      "source": [
        "##### (xii) WAP to delete L."
      ],
      "metadata": {
        "id": "TsuxH92-PxKw"
      }
    },
    {
      "cell_type": "code",
      "source": [
        "del L\n",
        "print(L)"
      ],
      "metadata": {
        "colab": {
          "base_uri": "https://localhost:8080/",
          "height": 158
        },
        "id": "hXjeBFvZP3I-",
        "outputId": "c40750bc-1b54-4317-d697-93708d9c7ecd"
      },
      "execution_count": 19,
      "outputs": [
        {
          "output_type": "error",
          "ename": "NameError",
          "evalue": "name 'L' is not defined",
          "traceback": [
            "\u001b[0;31m---------------------------------------------------------------------------\u001b[0m",
            "\u001b[0;31mNameError\u001b[0m                                 Traceback (most recent call last)",
            "\u001b[0;32m<ipython-input-19-2350757006>\u001b[0m in \u001b[0;36m<cell line: 0>\u001b[0;34m()\u001b[0m\n\u001b[1;32m      1\u001b[0m \u001b[0;32mdel\u001b[0m \u001b[0mL\u001b[0m\u001b[0;34m\u001b[0m\u001b[0;34m\u001b[0m\u001b[0m\n\u001b[0;32m----> 2\u001b[0;31m \u001b[0mprint\u001b[0m\u001b[0;34m(\u001b[0m\u001b[0mL\u001b[0m\u001b[0;34m)\u001b[0m\u001b[0;34m\u001b[0m\u001b[0;34m\u001b[0m\u001b[0m\n\u001b[0m",
            "\u001b[0;31mNameError\u001b[0m: name 'L' is not defined"
          ]
        }
      ]
    },
    {
      "cell_type": "markdown",
      "source": [
        "---\n",
        "#### Q2. D is a dictionary defined as D= {1: 5.6, 2: 7.8, 3: 6.6, 4: 8.7, 5: 7.7}."
      ],
      "metadata": {
        "id": "BLMGRCrrP8Ak"
      }
    },
    {
      "cell_type": "code",
      "source": [
        "D = {1: 5.6, 2: 7.8, 3: 6.6, 4: 8.7, 5: 7.7}\n",
        "print(D)"
      ],
      "metadata": {
        "colab": {
          "base_uri": "https://localhost:8080/"
        },
        "id": "-w1AY8WXQI-2",
        "outputId": "3e8ce137-e1c7-4170-9dfd-54652eb24180"
      },
      "execution_count": 21,
      "outputs": [
        {
          "output_type": "stream",
          "name": "stdout",
          "text": [
            "{1: 5.6, 2: 7.8, 3: 6.6, 4: 8.7, 5: 7.7}\n"
          ]
        }
      ]
    },
    {
      "cell_type": "markdown",
      "source": [
        "##### (i) WAP to add new entry in D; key=8 and value is 8.8"
      ],
      "metadata": {
        "id": "E_K5uK4gQSRH"
      }
    },
    {
      "cell_type": "code",
      "source": [
        "D = {1: 5.6, 2: 7.8, 3: 6.6, 4: 8.7, 5: 7.7}\n",
        "if 8 not in D:\n",
        "    D[8] = 8.8\n",
        "    print(D)\n",
        "else:\n",
        "    print(\"key = 8 is not a new entry.\")"
      ],
      "metadata": {
        "colab": {
          "base_uri": "https://localhost:8080/"
        },
        "id": "zoUn3DzZQWxy",
        "outputId": "3e89c661-3541-4160-963c-4aa25dab5f9b"
      },
      "execution_count": 31,
      "outputs": [
        {
          "output_type": "stream",
          "name": "stdout",
          "text": [
            "{1: 5.6, 2: 7.8, 3: 6.6, 4: 8.7, 5: 7.7, 8: 8.8}\n"
          ]
        }
      ]
    },
    {
      "cell_type": "markdown",
      "source": [
        "##### (ii) WAP to remove key=2."
      ],
      "metadata": {
        "id": "rWEXSwVXQiDw"
      }
    },
    {
      "cell_type": "code",
      "source": [
        "D = {1: 5.6, 2: 7.8, 3: 6.6, 4: 8.7, 5: 7.7}\n",
        "del D[2]\n",
        "print(D)"
      ],
      "metadata": {
        "colab": {
          "base_uri": "https://localhost:8080/"
        },
        "outputId": "c99ab791-5f2f-425d-8bf3-5078e4c958d2",
        "id": "s9EgMKjMQiDw"
      },
      "execution_count": 25,
      "outputs": [
        {
          "output_type": "stream",
          "name": "stdout",
          "text": [
            "{1: 5.6, 3: 6.6, 4: 8.7, 5: 7.7}\n"
          ]
        }
      ]
    },
    {
      "cell_type": "markdown",
      "source": [
        "##### (iii) WAP to check weather 6 key is present in D."
      ],
      "metadata": {
        "id": "Qc2AV-uvQxDx"
      }
    },
    {
      "cell_type": "code",
      "source": [
        "D = {1: 5.6, 2: 7.8, 3: 6.6, 4: 8.7, 5: 7.7}\n",
        "print(\"6 is present in D.\") if (6 in D) else print(\"6 is not present in D.\")"
      ],
      "metadata": {
        "colab": {
          "base_uri": "https://localhost:8080/"
        },
        "id": "p0gqSiSfQ2Dt",
        "outputId": "833a865c-07ae-43da-fad4-0125f5433046"
      },
      "execution_count": 27,
      "outputs": [
        {
          "output_type": "stream",
          "name": "stdout",
          "text": [
            "6 is not present in D.\n"
          ]
        }
      ]
    },
    {
      "cell_type": "markdown",
      "source": [
        "##### (iv) WAP to count the number of elements present in D."
      ],
      "metadata": {
        "id": "Wt3k0InJRD6n"
      }
    },
    {
      "cell_type": "code",
      "source": [
        "D = {1: 5.6, 2: 7.8, 3: 6.6, 4: 8.7, 5: 7.7}\n",
        "count = len(D)\n",
        "print(\"No. of elements in D =\", count)"
      ],
      "metadata": {
        "colab": {
          "base_uri": "https://localhost:8080/"
        },
        "id": "cEt0_lx2RJjq",
        "outputId": "e848cc83-ed3f-42d3-8fa0-83e6a45078e5"
      },
      "execution_count": 28,
      "outputs": [
        {
          "output_type": "stream",
          "name": "stdout",
          "text": [
            "No. of elements in D = 5\n"
          ]
        }
      ]
    },
    {
      "cell_type": "markdown",
      "source": [
        "##### (v) WAP to add all the values present in D."
      ],
      "metadata": {
        "id": "598YxePcRPdJ"
      }
    },
    {
      "cell_type": "code",
      "source": [
        "D = {1: 5.6, 2: 7.8, 3: 6.6, 4: 8.7, 5: 7.7}\n",
        "value_sum = sum(D.values())\n",
        "print(\"Sum of all values in D =\", value_sum)"
      ],
      "metadata": {
        "colab": {
          "base_uri": "https://localhost:8080/"
        },
        "id": "WvAOJ3ZiRTaE",
        "outputId": "b165d62f-12e2-4a01-bec4-c28f197039b2"
      },
      "execution_count": 30,
      "outputs": [
        {
          "output_type": "stream",
          "name": "stdout",
          "text": [
            "Sum of all values in D = 36.4\n"
          ]
        }
      ]
    },
    {
      "cell_type": "markdown",
      "source": [
        "##### (vi) WAP to update the value of 3 to 7.1."
      ],
      "metadata": {
        "id": "yzo4izeTRc2N"
      }
    },
    {
      "cell_type": "code",
      "source": [
        "D = {1: 5.6, 2: 7.8, 3: 6.6, 4: 8.7, 5: 7.7}\n",
        "if 3 in D:\n",
        "    D[3] = 7.1\n",
        "    print(D)\n",
        "else:\n",
        "    print(\"3 not in D.\")"
      ],
      "metadata": {
        "colab": {
          "base_uri": "https://localhost:8080/"
        },
        "id": "-Ont3u0yRy37",
        "outputId": "93888c4a-2d14-49a3-ae8f-546ab90046f7"
      },
      "execution_count": 36,
      "outputs": [
        {
          "output_type": "stream",
          "name": "stdout",
          "text": [
            "{1: 5.6, 2: 7.8, 3: 7.1, 4: 8.7, 5: 7.7}\n"
          ]
        }
      ]
    },
    {
      "cell_type": "markdown",
      "source": [
        "##### (vii) WAP to clear the dictionary."
      ],
      "metadata": {
        "id": "WnY2tl2wSJjr"
      }
    },
    {
      "cell_type": "code",
      "source": [
        "D.clear()\n",
        "print(D)"
      ],
      "metadata": {
        "colab": {
          "base_uri": "https://localhost:8080/"
        },
        "id": "PgIkGWTiSQE_",
        "outputId": "695e954b-93b2-48fc-e50a-8569c8dfcf44"
      },
      "execution_count": 37,
      "outputs": [
        {
          "output_type": "stream",
          "name": "stdout",
          "text": [
            "{}\n"
          ]
        }
      ]
    },
    {
      "cell_type": "markdown",
      "source": [
        "---\n",
        "#### Q3. S1 is a set defined as S1= [10, 20, 30, 40, 50, 60]; and S2 is a set defined as S2= [40, 50, 60, 70, 80, 90]."
      ],
      "metadata": {
        "id": "7el2yWWQSVCe"
      }
    },
    {
      "cell_type": "code",
      "source": [
        "S1 = {10, 20, 30, 40, 50, 60}\n",
        "S2 = {40, 50, 60, 70, 80, 90}\n",
        "print(\"S1 =\", S1)\n",
        "print(\"S2 =\", S2)"
      ],
      "metadata": {
        "colab": {
          "base_uri": "https://localhost:8080/"
        },
        "id": "bGzlZNeuSl_g",
        "outputId": "c9993518-2725-40bb-c18d-a3990cebaf80"
      },
      "execution_count": 38,
      "outputs": [
        {
          "output_type": "stream",
          "name": "stdout",
          "text": [
            "S1 = {50, 20, 40, 10, 60, 30}\n",
            "S2 = {80, 50, 70, 40, 90, 60}\n"
          ]
        }
      ]
    },
    {
      "cell_type": "markdown",
      "source": [
        "##### (i) WAP to add 55 and 66 in Set S1."
      ],
      "metadata": {
        "id": "l2kMRl_lSxiq"
      }
    },
    {
      "cell_type": "code",
      "source": [
        "S1.add(55)\n",
        "S1.add(66)\n",
        "print(\"S1 =\", S1)"
      ],
      "metadata": {
        "colab": {
          "base_uri": "https://localhost:8080/"
        },
        "id": "10YR8w6XS2In",
        "outputId": "e14993ae-0893-4729-9c13-5b9950bad911"
      },
      "execution_count": 40,
      "outputs": [
        {
          "output_type": "stream",
          "name": "stdout",
          "text": [
            "S1 = {50, 66, 20, 55, 40, 10, 60, 30}\n"
          ]
        }
      ]
    },
    {
      "cell_type": "markdown",
      "source": [
        "##### (ii) WAP to remove 10 and 30 from Set S1."
      ],
      "metadata": {
        "id": "XYZttBVeTDmh"
      }
    },
    {
      "cell_type": "code",
      "source": [
        "S1.discard(10)\n",
        "S1.discard(30)\n",
        "print(\"S1 =\", S1)"
      ],
      "metadata": {
        "colab": {
          "base_uri": "https://localhost:8080/"
        },
        "id": "6fufMRmuTG_M",
        "outputId": "cee940b1-2e2e-4fbc-ea59-e488a4fd7283"
      },
      "execution_count": 41,
      "outputs": [
        {
          "output_type": "stream",
          "name": "stdout",
          "text": [
            "S1 = {50, 66, 20, 55, 40, 60}\n"
          ]
        }
      ]
    },
    {
      "cell_type": "markdown",
      "source": [
        "##### (iii) WAP to check whether 40 is present in S1."
      ],
      "metadata": {
        "id": "9iLI2c3bTTOs"
      }
    },
    {
      "cell_type": "code",
      "source": [
        "print(\"40 is present in S1.\") if (40 in S1) else print(\"40 is not in S1.\")"
      ],
      "metadata": {
        "colab": {
          "base_uri": "https://localhost:8080/"
        },
        "id": "Muh0SG4dTW9u",
        "outputId": "343611ab-ece2-491e-c2f7-5cd6223eb9df"
      },
      "execution_count": 43,
      "outputs": [
        {
          "output_type": "stream",
          "name": "stdout",
          "text": [
            "40 is present in S1.\n"
          ]
        }
      ]
    },
    {
      "cell_type": "markdown",
      "source": [
        "##### (iv) WAP to find the union between S1 and S2."
      ],
      "metadata": {
        "id": "jrDt-ZDMTfrY"
      }
    },
    {
      "cell_type": "code",
      "source": [
        "S3 = S1.union(S2)\n",
        "print(\"S1 \\u222A S2 =\", S3)"
      ],
      "metadata": {
        "colab": {
          "base_uri": "https://localhost:8080/"
        },
        "id": "NSnPA-jLTjL3",
        "outputId": "924cde58-834d-452c-8ce3-53ee40c11308"
      },
      "execution_count": 45,
      "outputs": [
        {
          "output_type": "stream",
          "name": "stdout",
          "text": [
            "S1 ∪ S2 = {66, 70, 40, 80, 50, 20, 55, 90, 60}\n"
          ]
        }
      ]
    },
    {
      "cell_type": "markdown",
      "source": [
        "##### (v) WAP to find the intersection between S1 and S2."
      ],
      "metadata": {
        "id": "Up7ZbqPVUEk8"
      }
    },
    {
      "cell_type": "code",
      "source": [
        "S3 = S1.intersection(S2)\n",
        "print(\"S1 \\u2229 S2 =\", S3)"
      ],
      "metadata": {
        "colab": {
          "base_uri": "https://localhost:8080/"
        },
        "id": "vf9xhIaYUI9U",
        "outputId": "76b4a495-9836-414c-deb8-d784f3216df2"
      },
      "execution_count": 46,
      "outputs": [
        {
          "output_type": "stream",
          "name": "stdout",
          "text": [
            "S1 ∩ S2 = {40, 50, 60}\n"
          ]
        }
      ]
    },
    {
      "cell_type": "markdown",
      "source": [
        "##### (vi) WAP to find S1 - S2."
      ],
      "metadata": {
        "id": "nEgqHPeQURjS"
      }
    },
    {
      "cell_type": "code",
      "source": [
        "S3 = S1 - S2\n",
        "print(\"S1 - S2 =\", S3)"
      ],
      "metadata": {
        "colab": {
          "base_uri": "https://localhost:8080/"
        },
        "id": "YYvDwkidUWPZ",
        "outputId": "9aab2db6-4bff-4476-90a9-1629147138ac"
      },
      "execution_count": 47,
      "outputs": [
        {
          "output_type": "stream",
          "name": "stdout",
          "text": [
            "S1 - S2 = {66, 20, 55}\n"
          ]
        }
      ]
    },
    {
      "cell_type": "markdown",
      "source": [
        "---\n",
        "#### Q4. Write the following programs:-"
      ],
      "metadata": {
        "id": "C15z1p-mUcmT"
      }
    },
    {
      "cell_type": "markdown",
      "source": [
        "##### (i) WAP to print 100 random strings whose length between 6 and 8."
      ],
      "metadata": {
        "id": "xQmjZc-BUkZX"
      }
    },
    {
      "cell_type": "code",
      "source": [
        "import string\n",
        "import random\n",
        "\n",
        "sample_space = string.ascii_letters + string.digits\n",
        "\n",
        "for _ in range(100):\n",
        "    l = random.randint(6, 8)\n",
        "    s = random.sample(sample_space, l)\n",
        "    print(\"\".join(s))"
      ],
      "metadata": {
        "colab": {
          "base_uri": "https://localhost:8080/"
        },
        "id": "mDotGkvXUorq",
        "outputId": "16f45dc0-ac8f-49c7-9a76-39674877c9a0"
      },
      "execution_count": 50,
      "outputs": [
        {
          "output_type": "stream",
          "name": "stdout",
          "text": [
            "IbfvhV\n",
            "c4rSNDLQ\n",
            "leHKXRnT\n",
            "GF1EXSH\n",
            "I2V3wF\n",
            "fE2kDIX\n",
            "vCi2kZ\n",
            "kmriyI\n",
            "wHrf6a\n",
            "jGiS7DAE\n",
            "N6BlszqX\n",
            "skSBLQH\n",
            "DOR4Zau6\n",
            "zuBYAV\n",
            "6ancbyJ4\n",
            "4tMFk0\n",
            "R7NpG9Te\n",
            "2QOGXHmp\n",
            "LwOaQk\n",
            "WVF5Kf\n",
            "6bG24Mv\n",
            "EY3SlUQ\n",
            "nT9K7rD\n",
            "SUoPm7Ef\n",
            "cEuegW\n",
            "HtarmB\n",
            "ZRxbzJ8\n",
            "mwbKxjZ0\n",
            "QoJDzdBl\n",
            "5nG9db\n",
            "6ulifzq\n",
            "qjzCBc\n",
            "Dt4BYNP\n",
            "wmyJ7lsj\n",
            "set4Mz\n",
            "5RuyC3\n",
            "ta4yicW\n",
            "kXr5N4\n",
            "Sv71tGmp\n",
            "iv9Ajmoc\n",
            "7mqYAN\n",
            "mC1rUqpA\n",
            "1lHPOA\n",
            "pQbkIm\n",
            "0FMPjb\n",
            "lgBLqKUb\n",
            "Oa6uij8U\n",
            "u6h0xC\n",
            "3usmU0L\n",
            "uQEesN\n",
            "MnPQoas2\n",
            "uTSqAB6\n",
            "QrUdb7\n",
            "bO5i8Q\n",
            "ntyk3L\n",
            "EenOYamR\n",
            "2VflSo8s\n",
            "PFhotY\n",
            "epuiBj\n",
            "hEXY3cV\n",
            "M6atZ1N\n",
            "dxV6zT\n",
            "ZdWBv7y\n",
            "BS5vYPuV\n",
            "sDK126dR\n",
            "94kzWteF\n",
            "AjyxgrR\n",
            "Vcf4tyim\n",
            "PbzNMaiv\n",
            "24r75Ck\n",
            "qrRtCwDe\n",
            "NEKUy3n\n",
            "I7F28tT\n",
            "3qF7aEX\n",
            "812hb0D\n",
            "0IvpER\n",
            "pijNLCO3\n",
            "l1rVPD4\n",
            "5gAvWEP\n",
            "gUdmqp\n",
            "ye3UBd6l\n",
            "wLMAkH\n",
            "TE3fOHD\n",
            "kxXbj7O\n",
            "6qcaH2Ep\n",
            "A2cLDHq\n",
            "9zBpLtSh\n",
            "raREwpx\n",
            "zuvryx\n",
            "b18UZkWn\n",
            "34aG7HA\n",
            "qyLr71sQ\n",
            "7mVxoG\n",
            "oSCz8L\n",
            "RuAT9rs\n",
            "h9tgoC\n",
            "zijf29k\n",
            "GWpjJRY\n",
            "CQ84fyp\n",
            "9Wowjvb\n"
          ]
        }
      ]
    },
    {
      "cell_type": "markdown",
      "source": [
        "##### (ii) WAP to print all prime numbers between 600 and 800."
      ],
      "metadata": {
        "id": "2b2dom_dVtmY"
      }
    },
    {
      "cell_type": "code",
      "source": [
        "# SIEVE OF ERATOSTHENES - O(nloglogn)\n",
        "is_prime = [False, False] + [True] * 799\n",
        "result = []\n",
        "for i in range(2, 801):\n",
        "    if is_prime[i]:\n",
        "        if i >= 600:\n",
        "            result.append(i)\n",
        "        for j in range(i*i, 801, i):\n",
        "            is_prime[j] = False\n",
        "print(\"Prime numbers between 600 and 800 are:- \")\n",
        "for p in result:\n",
        "    print(p, end=\"\")\n",
        "    if p != result[-1]:\n",
        "        print(\", \", end=\"\")\n",
        "    else:\n",
        "        print(\".\")\n",
        "print()"
      ],
      "metadata": {
        "colab": {
          "base_uri": "https://localhost:8080/"
        },
        "id": "eMv1Vve9Vyfw",
        "outputId": "6110de98-3092-430a-ec97-fed3c6ce04cf"
      },
      "execution_count": 60,
      "outputs": [
        {
          "output_type": "stream",
          "name": "stdout",
          "text": [
            "Prime numbers between 600 and 800 are:- \n",
            "601, 607, 613, 617, 619, 631, 641, 643, 647, 653, 659, 661, 673, 677, 683, 691, 701, 709, 719, 727, 733, 739, 743, 751, 757, 761, 769, 773, 787, 797.\n",
            "\n"
          ]
        }
      ]
    },
    {
      "cell_type": "markdown",
      "source": [
        "##### (iii) WAP to print all numbers between 100 and 1000 that are divisible by 7 and 9."
      ],
      "metadata": {
        "id": "kDgZRyEKXlpl"
      }
    },
    {
      "cell_type": "code",
      "source": [
        "# If a number is divisible by both 7 and 9, it is also divisible by their LCM (63) => Reduce time complexity to approx. O(1)!!!\n",
        "l = ((100 // 63) + 1) * 63 # closest multiple of 63 after 100\n",
        "h = 1000\n",
        "\n",
        "result = range(l, h+1, 63)\n",
        "print(\"Numbers between 100 and 1000 that are divisible by 7 and 9 are:- \")\n",
        "for n in result:\n",
        "    print(n, end=\"\")\n",
        "    if n != result[-1]:\n",
        "        print(\", \", end=\"\")\n",
        "    else:\n",
        "        print(\".\")\n",
        "print()\n"
      ],
      "metadata": {
        "colab": {
          "base_uri": "https://localhost:8080/"
        },
        "id": "EvleaDSKXqKE",
        "outputId": "03657b74-99c0-45c5-9e13-ff1b45817e7f"
      },
      "execution_count": 67,
      "outputs": [
        {
          "output_type": "stream",
          "name": "stdout",
          "text": [
            "Numbers between 100 and 1000 that are divisible by 7 and 9 are:- \n",
            "126, 189, 252, 315, 378, 441, 504, 567, 630, 693, 756, 819, 882, 945.\n",
            "\n"
          ]
        }
      ]
    },
    {
      "cell_type": "markdown",
      "source": [
        "---\n",
        "#### Q5. WAP to create two lists of 10 random numbers between 10 and 30"
      ],
      "metadata": {
        "id": "yZKHB0mUZYOK"
      }
    },
    {
      "cell_type": "code",
      "source": [
        "import random\n",
        "L1 = random.sample(range(10, 31), 10)\n",
        "L2 = random.sample(range(10, 31), 10)\n",
        "print(\"L1 =\", L1)\n",
        "print(\"L2 =\", L2)"
      ],
      "metadata": {
        "colab": {
          "base_uri": "https://localhost:8080/"
        },
        "id": "vquUpG2AZkJp",
        "outputId": "fb879c1e-5d28-4a4d-d8cd-06f05a43eddb"
      },
      "execution_count": 84,
      "outputs": [
        {
          "output_type": "stream",
          "name": "stdout",
          "text": [
            "L1 = [14, 16, 10, 27, 30, 17, 12, 23, 20, 13]\n",
            "L2 = [21, 15, 10, 11, 26, 22, 28, 17, 30, 20]\n"
          ]
        }
      ]
    },
    {
      "cell_type": "markdown",
      "source": [
        "Find :-\n",
        "##### (i) Common numbers in the two lists"
      ],
      "metadata": {
        "id": "510-wh3WaXpy"
      }
    },
    {
      "cell_type": "code",
      "source": [
        "S1 = set(L1)\n",
        "S2 = set(L2)\n",
        "S3 = S1.intersection(S2)\n",
        "L3 = list(S3)\n",
        "print(\"Common elements in L1 and L2 are \", end=\"\")\n",
        "for n in L3:\n",
        "    print(n, end=\"\")\n",
        "    if n != L3[-1]:\n",
        "        print(\", \", end=\"\")\n",
        "    else:\n",
        "        print(\".\")\n",
        "print()"
      ],
      "metadata": {
        "colab": {
          "base_uri": "https://localhost:8080/"
        },
        "id": "IO1TVkcVadjV",
        "outputId": "713116ac-1dc9-47e6-dfd7-7062de66f6f9"
      },
      "execution_count": 86,
      "outputs": [
        {
          "output_type": "stream",
          "name": "stdout",
          "text": [
            "Common elements in L1 and L2 are 17, 10, 20, 30.\n",
            "\n"
          ]
        }
      ]
    },
    {
      "cell_type": "markdown",
      "source": [
        "##### (ii) Unique numbers in both the list"
      ],
      "metadata": {
        "id": "BWvNbjCGa-Pa"
      }
    },
    {
      "cell_type": "code",
      "source": [
        "S1 = set(L1)\n",
        "S2 = set(L2)\n",
        "S3 = S1.symmetric_difference(S2)\n",
        "L3 = list(S3)\n",
        "print(\"Elements unique to L1 and L2 are \", end=\"\")\n",
        "for n in L3:\n",
        "    print(n, end=\"\")\n",
        "    if n != L3[-1]:\n",
        "        print(\", \", end=\"\")\n",
        "    else:\n",
        "        print(\".\")\n",
        "print()"
      ],
      "metadata": {
        "colab": {
          "base_uri": "https://localhost:8080/"
        },
        "id": "4UaFTWYsbFdE",
        "outputId": "2b154757-0920-4768-9d68-633b3cd4c146"
      },
      "execution_count": 87,
      "outputs": [
        {
          "output_type": "stream",
          "name": "stdout",
          "text": [
            "Elements unique to L1 and L2 are 11, 12, 13, 14, 15, 16, 21, 22, 23, 26, 27, 28.\n",
            "\n"
          ]
        }
      ]
    },
    {
      "cell_type": "markdown",
      "source": [
        "##### (iii) Minimum in both the list"
      ],
      "metadata": {
        "id": "FTF-GvVcbO8k"
      }
    },
    {
      "cell_type": "code",
      "source": [
        "print(\"Minimum number in L1 =\", min(L1))\n",
        "print(\"Minimum number in L2 =\", min(L2))"
      ],
      "metadata": {
        "colab": {
          "base_uri": "https://localhost:8080/"
        },
        "id": "zEbiLTjmbTaZ",
        "outputId": "2969e05f-68cc-4b72-d42f-c2166061dcea"
      },
      "execution_count": 88,
      "outputs": [
        {
          "output_type": "stream",
          "name": "stdout",
          "text": [
            "Minimum number in L1 = 10\n",
            "Minimum number in L2 = 10\n"
          ]
        }
      ]
    },
    {
      "cell_type": "markdown",
      "source": [
        "##### (iv) Maximum in both the list"
      ],
      "metadata": {
        "id": "t1VDO5pAbf9Q"
      }
    },
    {
      "cell_type": "code",
      "source": [
        "print(\"Maximum number in L1 =\", max(L1))\n",
        "print(\"Maximum number in L2 =\", max(L2))"
      ],
      "metadata": {
        "colab": {
          "base_uri": "https://localhost:8080/"
        },
        "id": "84VgZy5zbj-j",
        "outputId": "79f0bcec-0831-4e2b-f4c6-53457269a302"
      },
      "execution_count": 89,
      "outputs": [
        {
          "output_type": "stream",
          "name": "stdout",
          "text": [
            "Maximum number in L1 = 30\n",
            "Maximum number in L2 = 30\n"
          ]
        }
      ]
    },
    {
      "cell_type": "markdown",
      "source": [
        "##### (v) Sum of both the lists"
      ],
      "metadata": {
        "id": "WBMpt11qbp5C"
      }
    },
    {
      "cell_type": "code",
      "source": [
        "print(\"Sum of all elements in L1 =\", sum(L1))\n",
        "print(\"Sum of all elements in L2 =\", sum(L2))\n",
        "print(\"Sum of elements of L1 and L2 =\", sum(L1) + sum(L2))"
      ],
      "metadata": {
        "colab": {
          "base_uri": "https://localhost:8080/"
        },
        "id": "a8MBGn-bbuGF",
        "outputId": "90789d54-7a5e-4271-a193-ddbd756935ee"
      },
      "execution_count": 90,
      "outputs": [
        {
          "output_type": "stream",
          "name": "stdout",
          "text": [
            "Sum of all elements in L1 = 182\n",
            "Sum of all elements in L2 = 200\n",
            "Sum of elements of L1 and L2 = 382\n"
          ]
        }
      ]
    },
    {
      "cell_type": "markdown",
      "source": [
        "---\n",
        "#### Q6. WAP to create a list of 100 random numbers between 100 and 900."
      ],
      "metadata": {
        "id": "oFjuW6Njb4M-"
      }
    },
    {
      "cell_type": "code",
      "source": [
        "import random\n",
        "\n",
        "L = random.sample(range(100, 901), 100)\n",
        "print(L)"
      ],
      "metadata": {
        "colab": {
          "base_uri": "https://localhost:8080/"
        },
        "id": "SNfQk6b1cT0v",
        "outputId": "c3a52518-1f91-4145-ff2d-a993617691ae"
      },
      "execution_count": 93,
      "outputs": [
        {
          "output_type": "stream",
          "name": "stdout",
          "text": [
            "[240, 755, 789, 308, 309, 642, 668, 245, 720, 317, 452, 872, 448, 310, 296, 763, 102, 195, 670, 257, 106, 491, 314, 534, 137, 639, 382, 112, 230, 694, 626, 543, 201, 132, 142, 650, 363, 527, 777, 798, 761, 402, 348, 212, 564, 405, 536, 154, 218, 518, 628, 469, 506, 736, 556, 303, 403, 107, 324, 144, 560, 425, 886, 302, 393, 332, 157, 629, 299, 762, 696, 335, 284, 877, 204, 451, 619, 549, 529, 233, 450, 621, 780, 821, 606, 794, 340, 130, 437, 480, 163, 287, 362, 884, 266, 285, 882, 271, 887, 315]\n"
          ]
        }
      ]
    },
    {
      "cell_type": "markdown",
      "source": [
        "Count and print:-\n",
        "##### (i) All odd numbers"
      ],
      "metadata": {
        "id": "sqwssZkZcmpn"
      }
    },
    {
      "cell_type": "code",
      "source": [
        "odds = []\n",
        "for x in L:\n",
        "    if x % 2 != 0:\n",
        "        odds.append(x)\n",
        "print(\"All odd numbers in L are:- \")\n",
        "for n in sorted(odds):\n",
        "    print(n)"
      ],
      "metadata": {
        "colab": {
          "base_uri": "https://localhost:8080/"
        },
        "id": "lOfCbWdAct-i",
        "outputId": "057ca03c-9f52-4289-da88-6c65c658ed31"
      },
      "execution_count": 99,
      "outputs": [
        {
          "output_type": "stream",
          "name": "stdout",
          "text": [
            "All odd numbers in L are:- \n",
            "107\n",
            "137\n",
            "157\n",
            "163\n",
            "195\n",
            "201\n",
            "233\n",
            "245\n",
            "257\n",
            "271\n",
            "285\n",
            "287\n",
            "299\n",
            "303\n",
            "309\n",
            "315\n",
            "317\n",
            "335\n",
            "363\n",
            "393\n",
            "403\n",
            "405\n",
            "425\n",
            "437\n",
            "451\n",
            "469\n",
            "491\n",
            "527\n",
            "529\n",
            "543\n",
            "549\n",
            "619\n",
            "621\n",
            "629\n",
            "639\n",
            "755\n",
            "761\n",
            "763\n",
            "777\n",
            "789\n",
            "821\n",
            "877\n",
            "887\n"
          ]
        }
      ]
    },
    {
      "cell_type": "markdown",
      "source": [
        "##### (ii) All even numbers"
      ],
      "metadata": {
        "id": "3fHTGLECdP94"
      }
    },
    {
      "cell_type": "code",
      "source": [
        "evens = []\n",
        "for x in L:\n",
        "    if x % 2 == 0:\n",
        "        evens.append(x)\n",
        "print(\"All even numbers in L are:- \")\n",
        "for n in sorted(evens):\n",
        "    print(n)"
      ],
      "metadata": {
        "colab": {
          "base_uri": "https://localhost:8080/"
        },
        "outputId": "7910150b-e80f-40af-f080-2a9562224507",
        "id": "5osAaBxGdP95"
      },
      "execution_count": 97,
      "outputs": [
        {
          "output_type": "stream",
          "name": "stdout",
          "text": [
            "All even numbers in L are:- \n",
            "102\n",
            "106\n",
            "112\n",
            "130\n",
            "132\n",
            "142\n",
            "144\n",
            "154\n",
            "204\n",
            "212\n",
            "218\n",
            "230\n",
            "240\n",
            "266\n",
            "284\n",
            "296\n",
            "302\n",
            "308\n",
            "310\n",
            "314\n",
            "324\n",
            "332\n",
            "340\n",
            "348\n",
            "362\n",
            "382\n",
            "402\n",
            "448\n",
            "450\n",
            "452\n",
            "480\n",
            "506\n",
            "518\n",
            "534\n",
            "536\n",
            "556\n",
            "560\n",
            "564\n",
            "606\n",
            "626\n",
            "628\n",
            "642\n",
            "650\n",
            "668\n",
            "670\n",
            "694\n",
            "696\n",
            "720\n",
            "736\n",
            "762\n",
            "780\n",
            "794\n",
            "798\n",
            "872\n",
            "882\n",
            "884\n",
            "886\n"
          ]
        }
      ]
    },
    {
      "cell_type": "markdown",
      "source": [
        "##### (iii) All prime numbers"
      ],
      "metadata": {
        "id": "aHBZtDnkdf1M"
      }
    },
    {
      "cell_type": "code",
      "source": [
        "# Again, we use Sieve of Eratosthenes\n",
        "is_prime = [False, False] + [True] * (max(L)-1)\n",
        "for i in range(2, max(L)+1):\n",
        "    if is_prime[i]:\n",
        "        for j in range(i*i, max(L)+1, i):\n",
        "            is_prime[j] = False\n",
        "\n",
        "L_primes = [x for x in L if is_prime[x]]\n",
        "\n",
        "print(\"All prime numbers in L are:- \")\n",
        "for n in sorted(L_primes):\n",
        "    print(n)"
      ],
      "metadata": {
        "colab": {
          "base_uri": "https://localhost:8080/"
        },
        "id": "nNTbJR3Fdl5P",
        "outputId": "e26ec230-e4bb-4cb6-82f2-f74417511289"
      },
      "execution_count": 102,
      "outputs": [
        {
          "output_type": "stream",
          "name": "stdout",
          "text": [
            "All prime numbers in L are:- \n",
            "107\n",
            "137\n",
            "157\n",
            "163\n",
            "233\n",
            "257\n",
            "271\n",
            "317\n",
            "491\n",
            "619\n",
            "761\n",
            "821\n",
            "877\n",
            "887\n"
          ]
        }
      ]
    },
    {
      "cell_type": "markdown",
      "source": [
        "---\n",
        "#### Q7. D is a dictionary defined as D={1:\"One\",2:\"Two\",3:\"Three\",4:\"Four\", 5:\"Five\"}. WAP to read all the keys and values from dictionary and write to the file in the given below format.\n",
        "    Key1, Value1\n",
        "    Key2, Value2\n",
        "    Key3, Value3"
      ],
      "metadata": {
        "id": "vEYZuip-eYcK"
      }
    },
    {
      "cell_type": "code",
      "source": [
        "D={1: \"One\", 2: \"Two\", 3: \"Three\", 4: \"Four\", 5: \"Five\"}\n",
        "with open(\"q7.txt\", \"w\") as fh:\n",
        "    for k, v in D.items():\n",
        "        fh.write(f\"{k}, {v}\\n\")\n",
        "print(\"Written to file successfully! Please open q7.txt from the left side panel.\")"
      ],
      "metadata": {
        "colab": {
          "base_uri": "https://localhost:8080/"
        },
        "id": "gJXa-dD2enUY",
        "outputId": "b62475ea-5ad2-4a79-c3ef-7c44d811382c"
      },
      "execution_count": 103,
      "outputs": [
        {
          "output_type": "stream",
          "name": "stdout",
          "text": [
            "Written to file successfully! Please open q7.txt from the left side panel.\n"
          ]
        }
      ]
    },
    {
      "cell_type": "markdown",
      "source": [
        "---\n",
        "#### Q8.  L is a list defined as L=[\"One\",\"Two\",\"Three\",\"Four\",\"Five\"]. WAP to count the length of each element from a list and write to the file in the given below format.\n",
        "    One, 3\n",
        "    Two, 3\n",
        "    Four, 4"
      ],
      "metadata": {
        "id": "XknkykrbfERF"
      }
    },
    {
      "cell_type": "code",
      "source": [
        "L = [\"One\", \"Two\", \"Three\", \"Four\", \"Five\"]\n",
        "with open(\"q8.txt\", \"w\") as fh:\n",
        "    for x in L:\n",
        "        fh.write(f\"{x}, {len(x)}\\n\")\n",
        "print(\"Written to file successfully! Please open q8.txt from the left side panel.\")"
      ],
      "metadata": {
        "colab": {
          "base_uri": "https://localhost:8080/"
        },
        "id": "JysqaBo_fNRm",
        "outputId": "f9ddde45-e05b-4d76-ccc4-177a5b3601f6"
      },
      "execution_count": 104,
      "outputs": [
        {
          "output_type": "stream",
          "name": "stdout",
          "text": [
            "Written to file successfully! Please open q8.txt from the left side panel.\n"
          ]
        }
      ]
    },
    {
      "cell_type": "markdown",
      "source": [
        "---\n",
        "#### Q9. Write to the file 100 random strings whose length between 10 and 15."
      ],
      "metadata": {
        "id": "1cqXxZKpfukX"
      }
    },
    {
      "cell_type": "code",
      "source": [
        "import random\n",
        "import string\n",
        "\n",
        "sample_space = string.ascii_letters + string.digits\n",
        "\n",
        "with open(\"q9.txt\", \"w\") as fh:\n",
        "    for _ in range(100):\n",
        "        l = random.randint(10, 15)\n",
        "        s = random.sample(sample_space, l)\n",
        "        fh.write(\"\".join(s) + \"\\n\")\n",
        "print(\"Written to file successfully! Please open q9.txt from the left side panel.\")"
      ],
      "metadata": {
        "colab": {
          "base_uri": "https://localhost:8080/"
        },
        "id": "2iwA8e-Tf25c",
        "outputId": "9e5d1898-0d5f-40e7-e8ad-ea17e0f7d9dd"
      },
      "execution_count": 108,
      "outputs": [
        {
          "output_type": "stream",
          "name": "stdout",
          "text": [
            "Written to file successfully! Please open q9.txt from the left side panel.\n"
          ]
        }
      ]
    },
    {
      "cell_type": "markdown",
      "source": [
        "---\n",
        "#### Q10. Write to the file all prime numbers between 600 and 800."
      ],
      "metadata": {
        "id": "HE1YuMmBgZ0n"
      }
    },
    {
      "cell_type": "code",
      "source": [
        "is_prime = [False, False] + [True] * 799\n",
        "result = []\n",
        "for i in range(2, 801):\n",
        "    if is_prime[i]:\n",
        "        if i >= 600:\n",
        "            result.append(i)\n",
        "        for j in range(i*i, 801, i):\n",
        "            is_prime[j] = False\n",
        "\n",
        "with open(\"q10.txt\", \"w\") as fh:\n",
        "    for r in result:\n",
        "        fh.write(f\"{r}\\n\")\n",
        "print(\"Written to file successfully! Please open q10.txt from the left side panel.\")"
      ],
      "metadata": {
        "colab": {
          "base_uri": "https://localhost:8080/"
        },
        "id": "prswr5Djge0K",
        "outputId": "5762386c-dc2f-4ec8-d9c3-00ba27c26469"
      },
      "execution_count": 110,
      "outputs": [
        {
          "output_type": "stream",
          "name": "stdout",
          "text": [
            "Written to file successfully! Please open q10.txt from the left side panel.\n"
          ]
        }
      ]
    },
    {
      "cell_type": "markdown",
      "source": [
        "---\n",
        "#### Q11. WAP to calculate the time taken by a program."
      ],
      "metadata": {
        "id": "4c8qj2bDhA6a"
      }
    },
    {
      "cell_type": "code",
      "source": [
        "from time import time\n",
        "start_time = time()\n",
        "for _ in range(10**7):\n",
        "    pass\n",
        "end_time = time()\n",
        "elapsed_time = end_time - start_time\n",
        "print(f\"Time taken = {elapsed_time} seconds.\")"
      ],
      "metadata": {
        "colab": {
          "base_uri": "https://localhost:8080/"
        },
        "id": "wARAx5kZhHQh",
        "outputId": "f950b81b-b2a9-41f5-eb10-fb05b3a88690"
      },
      "execution_count": 126,
      "outputs": [
        {
          "output_type": "stream",
          "name": "stdout",
          "text": [
            "Time taken = 0.6731305122375488 seconds.\n"
          ]
        }
      ]
    },
    {
      "cell_type": "markdown",
      "source": [
        "---\n",
        "##### Q12. WAP to sort following number of elements in a list, calculate time taken and plot the graph.\n",
        "\n",
        "| Number of elements in list | Time Taken |\n",
        "| -------------------------- | ---------- |\n",
        "| 5k                         | T1         |\n",
        "| 10k                        | T2         |\n",
        "| 15k                        | T3         |\n",
        "| 20k                        | T4         |\n",
        "| 25k                        | T5         |"
      ],
      "metadata": {
        "id": "6Q4tP_dSiFOI"
      }
    },
    {
      "cell_type": "code",
      "source": [
        "import matplotlib.pyplot as plt\n",
        "import random\n",
        "import time\n",
        "\n",
        "max_range = 100_000\n",
        "ranges = (5_000, 10_000, 15_000, 20_000, 25_000)\n",
        "times = []\n",
        "\n",
        "for r in ranges:\n",
        "    L = random.sample(range(max_range), r)\n",
        "    st = time.time() * 1000\n",
        "    L.sort()\n",
        "    et = time.time() * 1000\n",
        "    times.append(et - st)\n",
        "\n",
        "plt.plot(ranges, times, 'bo-')\n",
        "plt.title(\"Time taken to sort lists of different sizes\")\n",
        "plt.xlabel(\"Number of elements in list\")\n",
        "plt.ylabel(\"Time taken to sort list (ms)\")\n",
        "plt.legend([f\"Max sample size = {max_range:,d}\"])\n",
        "plt.show()"
      ],
      "metadata": {
        "colab": {
          "base_uri": "https://localhost:8080/",
          "height": 472
        },
        "id": "p6fJUZEpkfou",
        "outputId": "26acc7f2-e6df-4214-8c1f-497709a2eccb"
      },
      "execution_count": 185,
      "outputs": [
        {
          "output_type": "display_data",
          "data": {
            "text/plain": [
              "<Figure size 640x480 with 1 Axes>"
            ],
            "image/png": "[encoded data removed]"
          },
          "metadata": {}
        }
      ]
    },
    {
      "cell_type": "markdown",
      "source": [
        "---\n",
        "#### Q13. WAP to create a dictionary of student marks in five subjects and you have to find the student having maximum and minimum average marks."
      ],
      "metadata": {
        "id": "vryiZXP9sJj5"
      }
    },
    {
      "cell_type": "code",
      "source": [
        "import random\n",
        "\n",
        "def random_mark_gen():\n",
        "    return round(random.random() * 200) / 2\n",
        "\n",
        "rnos = [101, 102, 103, 104, 105, 106, 107, 108, 109, 110]\n",
        "marks = {}\n",
        "for rno in rnos:\n",
        "    marks[rno] = [random_mark_gen() for _ in range(5)]\n",
        "\n",
        "print(\"Dictionary with student marks:-\")\n",
        "print(marks)\n",
        "\n",
        "avg_marks = {k: sum(v)/len(v) for k, v in marks.items()}\n",
        "print(\"\\nDictionary with student average marks:-\")\n",
        "print(avg_marks)\n",
        "\n",
        "maxavg_rno = max(avg_marks, key=avg_marks.get) # The max function maximises the passed in KEY attribute of avg_marks, but still returns the corresponding key!\n",
        "minavg_rno = min(avg_marks, key=avg_marks.get)\n",
        "print(\"\\nStudent with highest average marks =\", maxavg_rno, \"with average marks =\", avg_marks[maxavg_rno])\n",
        "print(\"Student with lowest average marks =\", minavg_rno, \"with average marks =\", avg_marks[minavg_rno])"
      ],
      "metadata": {
        "colab": {
          "base_uri": "https://localhost:8080/"
        },
        "id": "L8cuWFAOsQdV",
        "outputId": "265c0d68-7175-4228-e3b1-6f068d140f29"
      },
      "execution_count": 251,
      "outputs": [
        {
          "output_type": "stream",
          "name": "stdout",
          "text": [
            "Dictionary with student marks:-\n",
            "{101: [6.0, 42.5, 47.5, 89.5, 63.5], 102: [90.0, 84.0, 28.5, 17.0, 70.5], 103: [42.5, 53.5, 96.5, 91.5, 76.5], 104: [83.5, 19.5, 63.5, 56.0, 53.5], 105: [0.0, 19.5, 6.0, 86.5, 40.0], 106: [88.5, 2.5, 7.5, 13.5, 19.0], 107: [61.5, 7.0, 21.5, 90.0, 3.5], 108: [18.0, 33.0, 59.5, 19.0, 27.5], 109: [42.5, 34.5, 71.0, 6.0, 39.5], 110: [65.5, 10.0, 21.0, 19.0, 15.0]}\n",
            "\n",
            "Dictionary with student average marks:-\n",
            "{101: 49.8, 102: 58.0, 103: 72.1, 104: 55.2, 105: 30.4, 106: 26.2, 107: 36.7, 108: 31.4, 109: 38.7, 110: 26.1}\n",
            "\n",
            "Student with highest average marks = 103 with average marks = 72.1\n",
            "Student with lowest average marks = 110 with average marks = 26.1\n"
          ]
        }
      ]
    }
  ]
}